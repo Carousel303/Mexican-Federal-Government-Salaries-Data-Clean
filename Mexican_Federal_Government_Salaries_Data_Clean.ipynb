{
  "nbformat": 4,
  "nbformat_minor": 0,
  "metadata": {
    "colab": {
      "provenance": [],
      "authorship_tag": "ABX9TyNJLka4ffBJzVQyJsg6tJ+d",
      "include_colab_link": true
    },
    "kernelspec": {
      "name": "python3",
      "display_name": "Python 3"
    },
    "language_info": {
      "name": "python"
    }
  },
  "cells": [
    {
      "cell_type": "markdown",
      "metadata": {
        "id": "view-in-github",
        "colab_type": "text"
      },
      "source": [
        "<a href=\"https://colab.research.google.com/github/Carousel303/Mexican-Federal-Government-Salaries-Data-Clean/blob/main/Mexican_Federal_Government_Salaries_Data_Clean.ipynb\" target=\"_parent\"><img src=\"https://colab.research.google.com/assets/colab-badge.svg\" alt=\"Open In Colab\"/></a>"
      ]
    },
    {
      "cell_type": "code",
      "execution_count": null,
      "metadata": {
        "colab": {
          "base_uri": "https://localhost:8080/",
          "height": 73
        },
        "id": "OLqEXlEaXLYT",
        "outputId": "4c267371-a831-47df-a72d-e5eebe547f38"
      },
      "outputs": [
        {
          "output_type": "display_data",
          "data": {
            "text/plain": [
              "<IPython.core.display.HTML object>"
            ],
            "text/html": [
              "\n",
              "     <input type=\"file\" id=\"files-26c42b6f-ad93-4034-b307-186d6ea1099a\" name=\"files[]\" multiple disabled\n",
              "        style=\"border:none\" />\n",
              "     <output id=\"result-26c42b6f-ad93-4034-b307-186d6ea1099a\">\n",
              "      Upload widget is only available when the cell has been executed in the\n",
              "      current browser session. Please rerun this cell to enable.\n",
              "      </output>\n",
              "      <script>// Copyright 2017 Google LLC\n",
              "//\n",
              "// Licensed under the Apache License, Version 2.0 (the \"License\");\n",
              "// you may not use this file except in compliance with the License.\n",
              "// You may obtain a copy of the License at\n",
              "//\n",
              "//      http://www.apache.org/licenses/LICENSE-2.0\n",
              "//\n",
              "// Unless required by applicable law or agreed to in writing, software\n",
              "// distributed under the License is distributed on an \"AS IS\" BASIS,\n",
              "// WITHOUT WARRANTIES OR CONDITIONS OF ANY KIND, either express or implied.\n",
              "// See the License for the specific language governing permissions and\n",
              "// limitations under the License.\n",
              "\n",
              "/**\n",
              " * @fileoverview Helpers for google.colab Python module.\n",
              " */\n",
              "(function(scope) {\n",
              "function span(text, styleAttributes = {}) {\n",
              "  const element = document.createElement('span');\n",
              "  element.textContent = text;\n",
              "  for (const key of Object.keys(styleAttributes)) {\n",
              "    element.style[key] = styleAttributes[key];\n",
              "  }\n",
              "  return element;\n",
              "}\n",
              "\n",
              "// Max number of bytes which will be uploaded at a time.\n",
              "const MAX_PAYLOAD_SIZE = 100 * 1024;\n",
              "\n",
              "function _uploadFiles(inputId, outputId) {\n",
              "  const steps = uploadFilesStep(inputId, outputId);\n",
              "  const outputElement = document.getElementById(outputId);\n",
              "  // Cache steps on the outputElement to make it available for the next call\n",
              "  // to uploadFilesContinue from Python.\n",
              "  outputElement.steps = steps;\n",
              "\n",
              "  return _uploadFilesContinue(outputId);\n",
              "}\n",
              "\n",
              "// This is roughly an async generator (not supported in the browser yet),\n",
              "// where there are multiple asynchronous steps and the Python side is going\n",
              "// to poll for completion of each step.\n",
              "// This uses a Promise to block the python side on completion of each step,\n",
              "// then passes the result of the previous step as the input to the next step.\n",
              "function _uploadFilesContinue(outputId) {\n",
              "  const outputElement = document.getElementById(outputId);\n",
              "  const steps = outputElement.steps;\n",
              "\n",
              "  const next = steps.next(outputElement.lastPromiseValue);\n",
              "  return Promise.resolve(next.value.promise).then((value) => {\n",
              "    // Cache the last promise value to make it available to the next\n",
              "    // step of the generator.\n",
              "    outputElement.lastPromiseValue = value;\n",
              "    return next.value.response;\n",
              "  });\n",
              "}\n",
              "\n",
              "/**\n",
              " * Generator function which is called between each async step of the upload\n",
              " * process.\n",
              " * @param {string} inputId Element ID of the input file picker element.\n",
              " * @param {string} outputId Element ID of the output display.\n",
              " * @return {!Iterable<!Object>} Iterable of next steps.\n",
              " */\n",
              "function* uploadFilesStep(inputId, outputId) {\n",
              "  const inputElement = document.getElementById(inputId);\n",
              "  inputElement.disabled = false;\n",
              "\n",
              "  const outputElement = document.getElementById(outputId);\n",
              "  outputElement.innerHTML = '';\n",
              "\n",
              "  const pickedPromise = new Promise((resolve) => {\n",
              "    inputElement.addEventListener('change', (e) => {\n",
              "      resolve(e.target.files);\n",
              "    });\n",
              "  });\n",
              "\n",
              "  const cancel = document.createElement('button');\n",
              "  inputElement.parentElement.appendChild(cancel);\n",
              "  cancel.textContent = 'Cancel upload';\n",
              "  const cancelPromise = new Promise((resolve) => {\n",
              "    cancel.onclick = () => {\n",
              "      resolve(null);\n",
              "    };\n",
              "  });\n",
              "\n",
              "  // Wait for the user to pick the files.\n",
              "  const files = yield {\n",
              "    promise: Promise.race([pickedPromise, cancelPromise]),\n",
              "    response: {\n",
              "      action: 'starting',\n",
              "    }\n",
              "  };\n",
              "\n",
              "  cancel.remove();\n",
              "\n",
              "  // Disable the input element since further picks are not allowed.\n",
              "  inputElement.disabled = true;\n",
              "\n",
              "  if (!files) {\n",
              "    return {\n",
              "      response: {\n",
              "        action: 'complete',\n",
              "      }\n",
              "    };\n",
              "  }\n",
              "\n",
              "  for (const file of files) {\n",
              "    const li = document.createElement('li');\n",
              "    li.append(span(file.name, {fontWeight: 'bold'}));\n",
              "    li.append(span(\n",
              "        `(${file.type || 'n/a'}) - ${file.size} bytes, ` +\n",
              "        `last modified: ${\n",
              "            file.lastModifiedDate ? file.lastModifiedDate.toLocaleDateString() :\n",
              "                                    'n/a'} - `));\n",
              "    const percent = span('0% done');\n",
              "    li.appendChild(percent);\n",
              "\n",
              "    outputElement.appendChild(li);\n",
              "\n",
              "    const fileDataPromise = new Promise((resolve) => {\n",
              "      const reader = new FileReader();\n",
              "      reader.onload = (e) => {\n",
              "        resolve(e.target.result);\n",
              "      };\n",
              "      reader.readAsArrayBuffer(file);\n",
              "    });\n",
              "    // Wait for the data to be ready.\n",
              "    let fileData = yield {\n",
              "      promise: fileDataPromise,\n",
              "      response: {\n",
              "        action: 'continue',\n",
              "      }\n",
              "    };\n",
              "\n",
              "    // Use a chunked sending to avoid message size limits. See b/62115660.\n",
              "    let position = 0;\n",
              "    do {\n",
              "      const length = Math.min(fileData.byteLength - position, MAX_PAYLOAD_SIZE);\n",
              "      const chunk = new Uint8Array(fileData, position, length);\n",
              "      position += length;\n",
              "\n",
              "      const base64 = btoa(String.fromCharCode.apply(null, chunk));\n",
              "      yield {\n",
              "        response: {\n",
              "          action: 'append',\n",
              "          file: file.name,\n",
              "          data: base64,\n",
              "        },\n",
              "      };\n",
              "\n",
              "      let percentDone = fileData.byteLength === 0 ?\n",
              "          100 :\n",
              "          Math.round((position / fileData.byteLength) * 100);\n",
              "      percent.textContent = `${percentDone}% done`;\n",
              "\n",
              "    } while (position < fileData.byteLength);\n",
              "  }\n",
              "\n",
              "  // All done.\n",
              "  yield {\n",
              "    response: {\n",
              "      action: 'complete',\n",
              "    }\n",
              "  };\n",
              "}\n",
              "\n",
              "scope.google = scope.google || {};\n",
              "scope.google.colab = scope.google.colab || {};\n",
              "scope.google.colab._files = {\n",
              "  _uploadFiles,\n",
              "  _uploadFilesContinue,\n",
              "};\n",
              "})(self);\n",
              "</script> "
            ]
          },
          "metadata": {}
        },
        {
          "output_type": "stream",
          "name": "stdout",
          "text": [
            "Saving salaries.csv to salaries.csv\n"
          ]
        }
      ],
      "source": [
        "from google.colab import files\n",
        " \n",
        " \n",
        "uploaded = files.upload()"
      ]
    },
    {
      "cell_type": "code",
      "source": [
        "import pandas as pd\n",
        "\n",
        " \n",
        "df = pd.read_csv('salaries')"
      ],
      "metadata": {
        "id": "RL1t1PELg853"
      },
      "execution_count": null,
      "outputs": []
    },
    {
      "cell_type": "code",
      "source": [
        "print(df.head(10))"
      ],
      "metadata": {
        "colab": {
          "base_uri": "https://localhost:8080/"
        },
        "id": "kIDDRZkEheya",
        "outputId": "e077f648-5cd6-4fb9-9e9f-596d401c9b45"
      },
      "execution_count": null,
      "outputs": [
        {
          "output_type": "stream",
          "name": "stdout",
          "text": [
            "  entidadfederativa                                     sujetoobligado  \\\n",
            "0           Hidalgo                                           Jaltocán   \n",
            "1  Ciudad de México                                Secretaría de Salud   \n",
            "2  Ciudad de México                  Secretaría de Seguridad Ciudadana   \n",
            "3        Federación  Autoridad Educativa Federal en la Ciudad de Mé...   \n",
            "4    Aguascalientes                       MUNICIPIO DE RINCÓN DE ROMOS   \n",
            "5    Aguascalientes             UNIVERSIDAD AUTÓNOMA DE AGUASCALIENTES   \n",
            "6          Campeche                          Ayuntamiento de Escárcega   \n",
            "7    Aguascalientes           INSTITUTO DE EDUCACIÓN DE AGUASCALIENTES   \n",
            "8          Guerrero             Secretaría de Educación Guerrero (SEG)   \n",
            "9          Guerrero             Secretaría de Educación Guerrero (SEG)   \n",
            "\n",
            "                           nombre  \\\n",
            "0      Adolfo Hernandez Hernandez   \n",
            "1   ARELY SAMANTA CLEOFAS VELASCO   \n",
            "2  MELODY OLIMPIC GONZALEZ MONTES   \n",
            "3            ANGEL ALLENDE PULIDO   \n",
            "4          Yolanda Reyes Gonzalez   \n",
            "5           JESUS GUTIERREZ LOPEZ   \n",
            "6              ALFONSO DAMAS RUIZ   \n",
            "7              IMELDA MOLINA LONA   \n",
            "8           PATRICIA RIOS RADILLA   \n",
            "9           HUGO SALMERON SANCHEZ   \n",
            "\n",
            "                                        denominacion  montoneto  \\\n",
            "0                                          Fontanero    4000.00   \n",
            "1                         AUXILIAR DE ENFERMERIA \"A\"   12177.86   \n",
            "2                                    POLICIA PRIMERO   11652.00   \n",
            "3                  APOYO Y ASISTENCIA A LA EDUCACION   10180.57   \n",
            "4                                           DIRECTOR   17004.40   \n",
            "5                             PROF. INVEST. ASOCIADO    2644.00   \n",
            "6                              JUBILADO Y PENSIONADO    4898.28   \n",
            "7                                            Docente     474.96   \n",
            "8  MAESTRO DE GRUPO DE PRIMARIA, FORANEO.        ...   13109.02   \n",
            "9                  ASISTENTE DE SERVICIOS EN PLANTEL    6299.30   \n",
            "\n",
            "                                               cargo  \\\n",
            "0                                          Fontanero   \n",
            "1                         AUXILIAR DE ENFERMERIA \"A\"   \n",
            "2                                    POLICIA PRIMERO   \n",
            "3                  APOYO Y ASISTENCIA A LA EDUCACION   \n",
            "4                                           DIRECTOR   \n",
            "5                             PROF. INVEST. ASOCIADO   \n",
            "6                              JUBILADO Y PENSIONADO   \n",
            "7                                            Docente   \n",
            "8  MAESTRO DE GRUPO DE PRIMARIA, FORANEO.        ...   \n",
            "9                  ASISTENTE DE SERVICIOS EN PLANTEL   \n",
            "\n",
            "                                                area  montobruto  \\\n",
            "0                                     OBRAS PUBLICAS     4254.00   \n",
            "1                               H.G. ENRIQUE CABRERA    16092.00   \n",
            "2                SUBSECRETARIA DE OPERACION POLICIAL    16030.00   \n",
            "3  DIRECCIÓN GENERAL DE OPERACIONES DE SERVICIOS ...     2910.65   \n",
            "4                                      ACCION CIVICA     6188.40   \n",
            "5                                           DEPORTES     2982.20   \n",
            "6                            JUBILADOS Y PENSIONADOS     4898.28   \n",
            "7  SECUNDARIA TECNICA NUM. 28, RAFAEL VILLEDA HER...      619.00   \n",
            "8  RICARDO FLORES MAGON                          ...    16812.67   \n",
            "9                               BENITO JUAREZ GARCIA     7579.22   \n",
            "\n",
            "   idInformacion periodoreportainicio periodoreportafin  \n",
            "0       16311845           01/01/2018        30/06/2018  \n",
            "1       16480190           01/01/2018        31/03/2018  \n",
            "2       17599078           01/01/2020        31/03/2020  \n",
            "3        6514612           01/07/2018        31/12/2018  \n",
            "4       11927166           01/07/2019        31/12/2019  \n",
            "5       11370235           01/07/2018        31/12/2018  \n",
            "6       15510807           01/07/2019        31/12/2019  \n",
            "7       15653533           01/05/2019        31/05/2019  \n",
            "8       16775890           01/04/2018        30/06/2018  \n",
            "9       16641254           01/04/2018        30/06/2018  \n"
          ]
        }
      ]
    },
    {
      "cell_type": "code",
      "source": [
        "\n",
        "df.info()"
      ],
      "metadata": {
        "colab": {
          "base_uri": "https://localhost:8080/"
        },
        "id": "kOEBBAPunkdy",
        "outputId": "f912f67e-f5e1-47ce-f7b9-c030868e7b04"
      },
      "execution_count": null,
      "outputs": [
        {
          "output_type": "stream",
          "name": "stdout",
          "text": [
            "<class 'pandas.core.frame.DataFrame'>\n",
            "RangeIndex: 1978155 entries, 0 to 1978154\n",
            "Data columns (total 11 columns):\n",
            " #   Column                Dtype  \n",
            "---  ------                -----  \n",
            " 0   entidadfederativa     object \n",
            " 1   sujetoobligado        object \n",
            " 2   nombre                object \n",
            " 3   denominacion          object \n",
            " 4   montoneto             float64\n",
            " 5   cargo                 object \n",
            " 6   area                  object \n",
            " 7   montobruto            float64\n",
            " 8   idInformacion         int64  \n",
            " 9   periodoreportainicio  object \n",
            " 10  periodoreportafin     object \n",
            "dtypes: float64(2), int64(1), object(8)\n",
            "memory usage: 166.0+ MB\n"
          ]
        }
      ]
    },
    {
      "cell_type": "code",
      "source": [
        "df = pd.read_csv(\"salaries.csv\", na_values = \"n/a\", parse_dates = [\"periodoreportainicio\", \"periodoreportafin\"])\n",
        "df.info()\n",
        "#didn't change date columns to datetime64 dtype???"
      ],
      "metadata": {
        "colab": {
          "base_uri": "https://localhost:8080/"
        },
        "id": "chLDN-HRxy9T",
        "outputId": "52b3a22b-24be-481f-9ceb-ebc8555825fc"
      },
      "execution_count": null,
      "outputs": [
        {
          "output_type": "stream",
          "name": "stdout",
          "text": [
            "<class 'pandas.core.frame.DataFrame'>\n",
            "RangeIndex: 1978155 entries, 0 to 1978154\n",
            "Data columns (total 11 columns):\n",
            " #   Column                Dtype  \n",
            "---  ------                -----  \n",
            " 0   entidadfederativa     object \n",
            " 1   sujetoobligado        object \n",
            " 2   nombre                object \n",
            " 3   denominacion          object \n",
            " 4   montoneto             float64\n",
            " 5   cargo                 object \n",
            " 6   area                  object \n",
            " 7   montobruto            float64\n",
            " 8   idInformacion         int64  \n",
            " 9   periodoreportainicio  object \n",
            " 10  periodoreportafin     object \n",
            "dtypes: float64(2), int64(1), object(8)\n",
            "memory usage: 166.0+ MB\n"
          ]
        }
      ]
    },
    {
      "cell_type": "code",
      "source": [
        "# reduced file size to make it easier to upload\n",
        "df = df[df.entidadfederativa == \"Ciudad de México\"]\n",
        "\n",
        "print(df.head(10))"
      ],
      "metadata": {
        "colab": {
          "base_uri": "https://localhost:8080/"
        },
        "id": "N593J0pDwy6Y",
        "outputId": "bc6fb979-30e5-4356-ef12-d97cb50543d8"
      },
      "execution_count": null,
      "outputs": [
        {
          "output_type": "stream",
          "name": "stdout",
          "text": [
            "   level_0  index entidadfederativa  \\\n",
            "0        0      1  Ciudad de México   \n",
            "1        1      2  Ciudad de México   \n",
            "2        2     14  Ciudad de México   \n",
            "3        3     17  Ciudad de México   \n",
            "4        4     29  Ciudad de México   \n",
            "5        5     30  Ciudad de México   \n",
            "6        6     31  Ciudad de México   \n",
            "7        7     46  Ciudad de México   \n",
            "8        8     71  Ciudad de México   \n",
            "9        9     73  Ciudad de México   \n",
            "\n",
            "                                      sujetoobligado  \\\n",
            "0                                Secretaría de Salud   \n",
            "1                  Secretaría de Seguridad Ciudadana   \n",
            "2                      Policía Bancaria e Industrial   \n",
            "3  Secretaría de Educación, Ciencia, Tecnología e...   \n",
            "4                            Alcaldía Álvaro Obregón   \n",
            "5  Procuraduría General de Justicia de la Ciudad ...   \n",
            "6                    Sistema de Transporte Colectivo   \n",
            "7  Sistema para el Desarrollo Integral de la Fami...   \n",
            "8                  Secretaría de Seguridad Ciudadana   \n",
            "9            Fiscalía General de Justicia de la CDMX   \n",
            "\n",
            "                              nombre  \\\n",
            "0      ARELY SAMANTA CLEOFAS VELASCO   \n",
            "1     MELODY OLIMPIC GONZALEZ MONTES   \n",
            "2                EUDELIO DORIO PEREZ   \n",
            "3        JUAN MANUEL GONZALEZ CASTRO   \n",
            "4            ANTONIO AGUILAR RAMIREZ   \n",
            "5          ANA LAURA GUDIÑO LONGINOS   \n",
            "6  JUAN JONATHAN ESCALANTE HERNANDEZ   \n",
            "7     Villegas Aguilar Victor Manuel   \n",
            "8              ENRIQUE LOPEZ HURTADO   \n",
            "9    TERESA DE JESUS CARDENAS CACHON   \n",
            "\n",
            "                                        denominacion  montoneto  \\\n",
            "0                         AUXILIAR DE ENFERMERIA \"A\"   12177.86   \n",
            "1                                    POLICIA PRIMERO   11652.00   \n",
            "2                                    POLICIA SEGUNDO   12050.80   \n",
            "3  ESTE TIPO DE CONTRATACION NO TIENE DENOMINACIO...    9683.89   \n",
            "4                                    JEFE DE OFICINA    8422.34   \n",
            "5                       PERITO PROFESIONAL O TECNICO   12675.77   \n",
            "6           INSP. JEFE DE ESTACION DE TRANSPORTACION       0.00   \n",
            "7               Auxiliar De Servicio Y Mantenimiento   11158.20   \n",
            "8                                    POLICIA SEGUNDO    8990.00   \n",
            "9                       PERITO PROFESIONAL O TECNICO   13188.60   \n",
            "\n",
            "                                               cargo  \\\n",
            "0                         AUXILIAR DE ENFERMERIA \"A\"   \n",
            "1                                    POLICIA PRIMERO   \n",
            "2                                    POLICIA SEGUNDO   \n",
            "3  ESTE TIPO DE CONTRATACION NO TIENE DENOMINACIO...   \n",
            "4                                    JEFE DE OFICINA   \n",
            "5                       PERITO PROFESIONAL O TECNICO   \n",
            "6           INSP. JEFE DE ESTACION DE TRANSPORTACION   \n",
            "7               Auxiliar De Servicio Y Mantenimiento   \n",
            "8                                    POLICIA SEGUNDO   \n",
            "9                       PERITO PROFESIONAL O TECNICO   \n",
            "\n",
            "                                                area  montobruto  \\\n",
            "0                               H.G. ENRIQUE CABRERA    16092.00   \n",
            "1                SUBSECRETARIA DE OPERACION POLICIAL    16030.00   \n",
            "2                                      SECTOR   B       14861.81   \n",
            "3                        DIRECCION DE ADMINISTRACION    11146.00   \n",
            "4         JUD DE REGISTRO DE MOVIMIENTOS DE PERSONAL    10045.67   \n",
            "5       COORDINACION GENERAL DE SERVICIOS PERICIALES    16735.00   \n",
            "6          COORDINACION DE TRANSPORTACIÓN DE LINEA 5    11777.00   \n",
            "7  Dir. Ejecutiva De Los Derechos De Las Personas...    13577.00   \n",
            "8                SUBSECRETARIA DE OPERACION POLICIAL    11144.00   \n",
            "9       COORDINACION GENERAL DE SERVICIOS PERICIALES    17489.00   \n",
            "\n",
            "   idInformacion periodoreportainicio periodoreportafin  \n",
            "0       16480190           01/01/2018        31/03/2018  \n",
            "1       17599078           01/01/2020        31/03/2020  \n",
            "2       18863345           01/07/2018        30/09/2018  \n",
            "3       17548988           01/10/2018        31/12/2018  \n",
            "4       19091192           01/01/2019        31/03/2019  \n",
            "5       19700847           01/10/2018        31/12/2018  \n",
            "6       19918891           01/04/2019        30/06/2019  \n",
            "7       19145902           01/01/2019        31/03/2019  \n",
            "8       15962010           01/04/2019        30/06/2019  \n",
            "9       15934670           01/01/2020        31/03/2020  \n"
          ]
        }
      ]
    },
    {
      "cell_type": "code",
      "source": [
        "df.drop('level_0', inplace=True, axis=1)"
      ],
      "metadata": {
        "id": "RBfsKyfQ1U-l"
      },
      "execution_count": null,
      "outputs": []
    },
    {
      "cell_type": "code",
      "source": [
        "print(df.head(5))"
      ],
      "metadata": {
        "colab": {
          "base_uri": "https://localhost:8080/"
        },
        "id": "Ef-qO7dp1dTx",
        "outputId": "9a50bc2d-ab8e-4431-a0fd-99354411c97f"
      },
      "execution_count": null,
      "outputs": [
        {
          "output_type": "stream",
          "name": "stdout",
          "text": [
            "   index entidadfederativa                                     sujetoobligado  \\\n",
            "0      1  Ciudad de México                                Secretaría de Salud   \n",
            "1      2  Ciudad de México                  Secretaría de Seguridad Ciudadana   \n",
            "2     14  Ciudad de México                      Policía Bancaria e Industrial   \n",
            "3     17  Ciudad de México  Secretaría de Educación, Ciencia, Tecnología e...   \n",
            "4     29  Ciudad de México                            Alcaldía Álvaro Obregón   \n",
            "\n",
            "                           nombre  \\\n",
            "0   ARELY SAMANTA CLEOFAS VELASCO   \n",
            "1  MELODY OLIMPIC GONZALEZ MONTES   \n",
            "2             EUDELIO DORIO PEREZ   \n",
            "3     JUAN MANUEL GONZALEZ CASTRO   \n",
            "4         ANTONIO AGUILAR RAMIREZ   \n",
            "\n",
            "                                        denominacion  montoneto  \\\n",
            "0                         AUXILIAR DE ENFERMERIA \"A\"   12177.86   \n",
            "1                                    POLICIA PRIMERO   11652.00   \n",
            "2                                    POLICIA SEGUNDO   12050.80   \n",
            "3  ESTE TIPO DE CONTRATACION NO TIENE DENOMINACIO...    9683.89   \n",
            "4                                    JEFE DE OFICINA    8422.34   \n",
            "\n",
            "                                               cargo  \\\n",
            "0                         AUXILIAR DE ENFERMERIA \"A\"   \n",
            "1                                    POLICIA PRIMERO   \n",
            "2                                    POLICIA SEGUNDO   \n",
            "3  ESTE TIPO DE CONTRATACION NO TIENE DENOMINACIO...   \n",
            "4                                    JEFE DE OFICINA   \n",
            "\n",
            "                                         area  montobruto  idInformacion  \\\n",
            "0                        H.G. ENRIQUE CABRERA    16092.00       16480190   \n",
            "1         SUBSECRETARIA DE OPERACION POLICIAL    16030.00       17599078   \n",
            "2                               SECTOR   B       14861.81       18863345   \n",
            "3                 DIRECCION DE ADMINISTRACION    11146.00       17548988   \n",
            "4  JUD DE REGISTRO DE MOVIMIENTOS DE PERSONAL    10045.67       19091192   \n",
            "\n",
            "  periodoreportainicio periodoreportafin  \n",
            "0           01/01/2018        31/03/2018  \n",
            "1           01/01/2020        31/03/2020  \n",
            "2           01/07/2018        30/09/2018  \n",
            "3           01/10/2018        31/12/2018  \n",
            "4           01/01/2019        31/03/2019  \n"
          ]
        }
      ]
    },
    {
      "cell_type": "code",
      "source": [
        "df.drop('index', inplace=True, axis=1)"
      ],
      "metadata": {
        "id": "Qrw4oErM1j6V"
      },
      "execution_count": null,
      "outputs": []
    },
    {
      "cell_type": "code",
      "source": [
        "df.to_csv('Mex Federal Government Salaries Ciudad de México.csv', index=False)"
      ],
      "metadata": {
        "id": "XuW0LjuJ2K9q"
      },
      "execution_count": null,
      "outputs": []
    },
    {
      "cell_type": "code",
      "source": [
        "from google.colab import files\n",
        " \n",
        " #RE-START HERE WITH SMALLER CSV FILE.\n",
        "uploaded = files.upload()"
      ],
      "metadata": {
        "colab": {
          "base_uri": "https://localhost:8080/",
          "height": 110
        },
        "id": "PgW35wPSkJ2w",
        "outputId": "bbd244ce-9c1d-4079-a8a8-172fce7fc6a2"
      },
      "execution_count": null,
      "outputs": [
        {
          "output_type": "display_data",
          "data": {
            "text/plain": [
              "<IPython.core.display.HTML object>"
            ],
            "text/html": [
              "\n",
              "     <input type=\"file\" id=\"files-aeb12d7c-5472-4440-93ad-6318b56e5fb0\" name=\"files[]\" multiple disabled\n",
              "        style=\"border:none\" />\n",
              "     <output id=\"result-aeb12d7c-5472-4440-93ad-6318b56e5fb0\">\n",
              "      Upload widget is only available when the cell has been executed in the\n",
              "      current browser session. Please rerun this cell to enable.\n",
              "      </output>\n",
              "      <script>// Copyright 2017 Google LLC\n",
              "//\n",
              "// Licensed under the Apache License, Version 2.0 (the \"License\");\n",
              "// you may not use this file except in compliance with the License.\n",
              "// You may obtain a copy of the License at\n",
              "//\n",
              "//      http://www.apache.org/licenses/LICENSE-2.0\n",
              "//\n",
              "// Unless required by applicable law or agreed to in writing, software\n",
              "// distributed under the License is distributed on an \"AS IS\" BASIS,\n",
              "// WITHOUT WARRANTIES OR CONDITIONS OF ANY KIND, either express or implied.\n",
              "// See the License for the specific language governing permissions and\n",
              "// limitations under the License.\n",
              "\n",
              "/**\n",
              " * @fileoverview Helpers for google.colab Python module.\n",
              " */\n",
              "(function(scope) {\n",
              "function span(text, styleAttributes = {}) {\n",
              "  const element = document.createElement('span');\n",
              "  element.textContent = text;\n",
              "  for (const key of Object.keys(styleAttributes)) {\n",
              "    element.style[key] = styleAttributes[key];\n",
              "  }\n",
              "  return element;\n",
              "}\n",
              "\n",
              "// Max number of bytes which will be uploaded at a time.\n",
              "const MAX_PAYLOAD_SIZE = 100 * 1024;\n",
              "\n",
              "function _uploadFiles(inputId, outputId) {\n",
              "  const steps = uploadFilesStep(inputId, outputId);\n",
              "  const outputElement = document.getElementById(outputId);\n",
              "  // Cache steps on the outputElement to make it available for the next call\n",
              "  // to uploadFilesContinue from Python.\n",
              "  outputElement.steps = steps;\n",
              "\n",
              "  return _uploadFilesContinue(outputId);\n",
              "}\n",
              "\n",
              "// This is roughly an async generator (not supported in the browser yet),\n",
              "// where there are multiple asynchronous steps and the Python side is going\n",
              "// to poll for completion of each step.\n",
              "// This uses a Promise to block the python side on completion of each step,\n",
              "// then passes the result of the previous step as the input to the next step.\n",
              "function _uploadFilesContinue(outputId) {\n",
              "  const outputElement = document.getElementById(outputId);\n",
              "  const steps = outputElement.steps;\n",
              "\n",
              "  const next = steps.next(outputElement.lastPromiseValue);\n",
              "  return Promise.resolve(next.value.promise).then((value) => {\n",
              "    // Cache the last promise value to make it available to the next\n",
              "    // step of the generator.\n",
              "    outputElement.lastPromiseValue = value;\n",
              "    return next.value.response;\n",
              "  });\n",
              "}\n",
              "\n",
              "/**\n",
              " * Generator function which is called between each async step of the upload\n",
              " * process.\n",
              " * @param {string} inputId Element ID of the input file picker element.\n",
              " * @param {string} outputId Element ID of the output display.\n",
              " * @return {!Iterable<!Object>} Iterable of next steps.\n",
              " */\n",
              "function* uploadFilesStep(inputId, outputId) {\n",
              "  const inputElement = document.getElementById(inputId);\n",
              "  inputElement.disabled = false;\n",
              "\n",
              "  const outputElement = document.getElementById(outputId);\n",
              "  outputElement.innerHTML = '';\n",
              "\n",
              "  const pickedPromise = new Promise((resolve) => {\n",
              "    inputElement.addEventListener('change', (e) => {\n",
              "      resolve(e.target.files);\n",
              "    });\n",
              "  });\n",
              "\n",
              "  const cancel = document.createElement('button');\n",
              "  inputElement.parentElement.appendChild(cancel);\n",
              "  cancel.textContent = 'Cancel upload';\n",
              "  const cancelPromise = new Promise((resolve) => {\n",
              "    cancel.onclick = () => {\n",
              "      resolve(null);\n",
              "    };\n",
              "  });\n",
              "\n",
              "  // Wait for the user to pick the files.\n",
              "  const files = yield {\n",
              "    promise: Promise.race([pickedPromise, cancelPromise]),\n",
              "    response: {\n",
              "      action: 'starting',\n",
              "    }\n",
              "  };\n",
              "\n",
              "  cancel.remove();\n",
              "\n",
              "  // Disable the input element since further picks are not allowed.\n",
              "  inputElement.disabled = true;\n",
              "\n",
              "  if (!files) {\n",
              "    return {\n",
              "      response: {\n",
              "        action: 'complete',\n",
              "      }\n",
              "    };\n",
              "  }\n",
              "\n",
              "  for (const file of files) {\n",
              "    const li = document.createElement('li');\n",
              "    li.append(span(file.name, {fontWeight: 'bold'}));\n",
              "    li.append(span(\n",
              "        `(${file.type || 'n/a'}) - ${file.size} bytes, ` +\n",
              "        `last modified: ${\n",
              "            file.lastModifiedDate ? file.lastModifiedDate.toLocaleDateString() :\n",
              "                                    'n/a'} - `));\n",
              "    const percent = span('0% done');\n",
              "    li.appendChild(percent);\n",
              "\n",
              "    outputElement.appendChild(li);\n",
              "\n",
              "    const fileDataPromise = new Promise((resolve) => {\n",
              "      const reader = new FileReader();\n",
              "      reader.onload = (e) => {\n",
              "        resolve(e.target.result);\n",
              "      };\n",
              "      reader.readAsArrayBuffer(file);\n",
              "    });\n",
              "    // Wait for the data to be ready.\n",
              "    let fileData = yield {\n",
              "      promise: fileDataPromise,\n",
              "      response: {\n",
              "        action: 'continue',\n",
              "      }\n",
              "    };\n",
              "\n",
              "    // Use a chunked sending to avoid message size limits. See b/62115660.\n",
              "    let position = 0;\n",
              "    do {\n",
              "      const length = Math.min(fileData.byteLength - position, MAX_PAYLOAD_SIZE);\n",
              "      const chunk = new Uint8Array(fileData, position, length);\n",
              "      position += length;\n",
              "\n",
              "      const base64 = btoa(String.fromCharCode.apply(null, chunk));\n",
              "      yield {\n",
              "        response: {\n",
              "          action: 'append',\n",
              "          file: file.name,\n",
              "          data: base64,\n",
              "        },\n",
              "      };\n",
              "\n",
              "      let percentDone = fileData.byteLength === 0 ?\n",
              "          100 :\n",
              "          Math.round((position / fileData.byteLength) * 100);\n",
              "      percent.textContent = `${percentDone}% done`;\n",
              "\n",
              "    } while (position < fileData.byteLength);\n",
              "  }\n",
              "\n",
              "  // All done.\n",
              "  yield {\n",
              "    response: {\n",
              "      action: 'complete',\n",
              "    }\n",
              "  };\n",
              "}\n",
              "\n",
              "scope.google = scope.google || {};\n",
              "scope.google.colab = scope.google.colab || {};\n",
              "scope.google.colab._files = {\n",
              "  _uploadFiles,\n",
              "  _uploadFilesContinue,\n",
              "};\n",
              "})(self);\n",
              "</script> "
            ]
          },
          "metadata": {}
        },
        {
          "output_type": "stream",
          "name": "stdout",
          "text": [
            "Saving Mex Federal Government Salaries Ciudad de México.csv to Mex Federal Government Salaries Ciudad de México.csv\n"
          ]
        }
      ]
    },
    {
      "cell_type": "code",
      "source": [
        "import pandas as pd"
      ],
      "metadata": {
        "id": "_vEbQSJYmJZO"
      },
      "execution_count": null,
      "outputs": []
    },
    {
      "cell_type": "code",
      "source": [
        "df = pd.read_csv('Mex Federal Government Salaries Ciudad de México.csv')"
      ],
      "metadata": {
        "id": "r7W3P2jtltvr"
      },
      "execution_count": null,
      "outputs": []
    },
    {
      "cell_type": "code",
      "source": [
        "# records count 312,647 down from 1,978,155\n",
        "df.info\n",
        "# Observations: mixed capitalization, relevant columns separated from each other and columns not capitalized"
      ],
      "metadata": {
        "colab": {
          "base_uri": "https://localhost:8080/"
        },
        "id": "1m5RXZZB3WUR",
        "outputId": "54807851-ffac-4f7b-b669-4e8739470889"
      },
      "execution_count": null,
      "outputs": [
        {
          "output_type": "execute_result",
          "data": {
            "text/plain": [
              "<bound method DataFrame.info of        entidadfederativa                                     sujetoobligado  \\\n",
              "0       Ciudad de México                                Secretaría de Salud   \n",
              "1       Ciudad de México                  Secretaría de Seguridad Ciudadana   \n",
              "2       Ciudad de México                      Policía Bancaria e Industrial   \n",
              "3       Ciudad de México  Secretaría de Educación, Ciencia, Tecnología e...   \n",
              "4       Ciudad de México                            Alcaldía Álvaro Obregón   \n",
              "...                  ...                                                ...   \n",
              "312643  Ciudad de México                  Secretaría de Seguridad Ciudadana   \n",
              "312644  Ciudad de México  Servicio de Transportes Eléctricos de la Ciuda...   \n",
              "312645  Ciudad de México          Secretaría de Trabajo y Fomento al Empleo   \n",
              "312646  Ciudad de México                  Secretaría de Seguridad Ciudadana   \n",
              "312647  Ciudad de México                                   Policía Auxiliar   \n",
              "\n",
              "                                        nombre  \\\n",
              "0                ARELY SAMANTA CLEOFAS VELASCO   \n",
              "1               MELODY OLIMPIC GONZALEZ MONTES   \n",
              "2                          EUDELIO DORIO PEREZ   \n",
              "3                  JUAN MANUEL GONZALEZ CASTRO   \n",
              "4                      ANTONIO AGUILAR RAMIREZ   \n",
              "...                                        ...   \n",
              "312643                  MONICA GUZMAN GONZALEZ   \n",
              "312644                  Marcelino Leyva Garcia   \n",
              "312645  JOSE GUADALUPE ALEJANDRO ORTIZ VAZQUEZ   \n",
              "312646                    JOEL SALGADO CORDERO   \n",
              "312647             Nancy Fanny Rivera Martinez   \n",
              "\n",
              "                                             denominacion  montoneto  \\\n",
              "0                              AUXILIAR DE ENFERMERIA \"A\"   12177.86   \n",
              "1                                         POLICIA PRIMERO   11652.00   \n",
              "2                                         POLICIA SEGUNDO   12050.80   \n",
              "3       ESTE TIPO DE CONTRATACION NO TIENE DENOMINACIO...    9683.89   \n",
              "4                                         JEFE DE OFICINA    8422.34   \n",
              "...                                                   ...        ...   \n",
              "312643                                    POLICIA SEGUNDO    8990.00   \n",
              "312644              Subgerencia de mantenimiento mecanico   11616.82   \n",
              "312645               ADMINISTRATIVO \"D\"-ESCALAFON DIGITAL    9009.79   \n",
              "312646                                    POLICIA SEGUNDO    9756.00   \n",
              "312647                                          Operativo   12119.57   \n",
              "\n",
              "                                                    cargo  \\\n",
              "0                              AUXILIAR DE ENFERMERIA \"A\"   \n",
              "1                                         POLICIA PRIMERO   \n",
              "2                                         POLICIA SEGUNDO   \n",
              "3       ESTE TIPO DE CONTRATACION NO TIENE DENOMINACIO...   \n",
              "4                                         JEFE DE OFICINA   \n",
              "...                                                   ...   \n",
              "312643                                    POLICIA SEGUNDO   \n",
              "312644              Subgerencia de mantenimiento mecanico   \n",
              "312645               ADMINISTRATIVO \"D\"-ESCALAFON DIGITAL   \n",
              "312646                                    POLICIA SEGUNDO   \n",
              "312647                                          Operativo   \n",
              "\n",
              "                                              area  montobruto  idInformacion  \\\n",
              "0                             H.G. ENRIQUE CABRERA    16092.00       16480190   \n",
              "1              SUBSECRETARIA DE OPERACION POLICIAL    16030.00       17599078   \n",
              "2                                    SECTOR   B       14861.81       18863345   \n",
              "3                      DIRECCION DE ADMINISTRACION    11146.00       17548988   \n",
              "4       JUD DE REGISTRO DE MOVIMIENTOS DE PERSONAL    10045.67       19091192   \n",
              "...                                            ...         ...            ...   \n",
              "312643         SUBSECRETARIA DE OPERACION POLICIAL    11144.00       15930831   \n",
              "312644       Subgerencia de mantenimiento mecanico    13127.37       18237992   \n",
              "312645                 DIRECCIÓN GENERAL DE EMPLEO    11121.27       17057489   \n",
              "312646         SUBSECRETARIA DE OPERACION POLICIAL    13493.00       16945292   \n",
              "312647                                   Sector 52    13766.68       18698843   \n",
              "\n",
              "       periodoreportainicio periodoreportafin  \n",
              "0                01/01/2018        31/03/2018  \n",
              "1                01/01/2020        31/03/2020  \n",
              "2                01/07/2018        30/09/2018  \n",
              "3                01/10/2018        31/12/2018  \n",
              "4                01/01/2019        31/03/2019  \n",
              "...                     ...               ...  \n",
              "312643           01/04/2019        30/06/2019  \n",
              "312644           01/07/2019        30/09/2019  \n",
              "312645           01/07/2019        30/09/2019  \n",
              "312646           01/01/2020        31/03/2020  \n",
              "312647           01/04/2019        30/06/2019  \n",
              "\n",
              "[312648 rows x 11 columns]>"
            ]
          },
          "metadata": {},
          "execution_count": 32
        }
      ]
    },
    {
      "cell_type": "code",
      "source": [
        "#START OF CLEANING\n",
        "#TITLED ALL DTYPE OBJECT FILES\n",
        "df[['entidadfederativa','sujetoobligado','nombre', 'denominacion', 'cargo', 'area', 'periodoreportainicio', 'periodoreportafin']] = df[['entidadfederativa','sujetoobligado','nombre', 'denominacion', 'cargo', 'area', 'periodoreportainicio', 'periodoreportafin']].apply(lambda x: x.str.title())"
      ],
      "metadata": {
        "id": "mDfRzDSKni8m"
      },
      "execution_count": null,
      "outputs": []
    },
    {
      "cell_type": "code",
      "source": [
        "#stripped columns with string(dtype object)\n",
        "df[['entidadfederativa','sujetoobligado','nombre', 'denominacion', 'cargo', 'area', 'periodoreportainicio', 'periodoreportafin']] = df[['entidadfederativa','sujetoobligado','nombre', 'denominacion', 'cargo', 'area', 'periodoreportainicio', 'periodoreportafin']].apply(lambda x: x.str.strip())"
      ],
      "metadata": {
        "id": "ZBCUNKR5H7Ye"
      },
      "execution_count": null,
      "outputs": []
    },
    {
      "cell_type": "code",
      "source": [
        "#Replaced \"De\" with \"de\" so fields read, \"Ciudad de Mexico\" and \"Jefe de Transportacion\"\n",
        "df[['entidadfederativa','sujetoobligado','nombre', 'denominacion', 'cargo', 'area', 'periodoreportainicio', 'periodoreportafin']] = df[['entidadfederativa','sujetoobligado','nombre', 'denominacion', 'cargo', 'area', 'periodoreportainicio', 'periodoreportafin']].apply(lambda x: x.str.replace('De', 'de'))\n"
      ],
      "metadata": {
        "id": "1m9Yv4-l1gEW"
      },
      "execution_count": null,
      "outputs": []
    },
    {
      "cell_type": "code",
      "source": [
        "#rename columns\n",
        "df.rename(columns={'entidadfederativa':'Entidad_Federativa','sujetoobligado':'Sujeto_Obligado','nombre':'Nombre', 'denominacion': 'Denominacion', 'montoneto':'Monto_Neto','cargo':'Cargo', 'area': 'Area', 'montobruto': 'Monto_Bruto', 'idInformacion': 'ID', 'periodoreportainicio': 'Periodo_Reporta_Inicio', 'periodoreportafin': 'Periodo_Reporta_Fin'},inplace=True)"
      ],
      "metadata": {
        "id": "4xTAcal-qZNs"
      },
      "execution_count": null,
      "outputs": []
    },
    {
      "cell_type": "code",
      "source": [
        "print(df.head(5))"
      ],
      "metadata": {
        "id": "rrNvAH8lAxYL",
        "colab": {
          "base_uri": "https://localhost:8080/"
        },
        "outputId": "cfc8e915-181b-446b-a15f-457c6014bcd0"
      },
      "execution_count": null,
      "outputs": [
        {
          "output_type": "stream",
          "name": "stdout",
          "text": [
            "  Entidad_Federativa                                    Sujeto_Obligado  \\\n",
            "0   Ciudad de México                                Secretaría de Salud   \n",
            "1   Ciudad de México                  Secretaría de Seguridad Ciudadana   \n",
            "2   Ciudad de México                      Policía Bancaria E Industrial   \n",
            "3   Ciudad de México  Secretaría de Educación, Ciencia, Tecnología E...   \n",
            "4   Ciudad de México                            Alcaldía Álvaro Obregón   \n",
            "\n",
            "                           Nombre  \\\n",
            "0   Arely Samanta Cleofas Velasco   \n",
            "1  Melody Olimpic Gonzalez Montes   \n",
            "2             Eudelio Dorio Perez   \n",
            "3     Juan Manuel Gonzalez Castro   \n",
            "4         Antonio Aguilar Ramirez   \n",
            "\n",
            "                                        Denominacion  Monto_Neto  \\\n",
            "0                         Auxiliar de Enfermeria \"A\"    12177.86   \n",
            "1                                    Policia Primero    11652.00   \n",
            "2                                    Policia Segundo    12050.80   \n",
            "3  Este Tipo de Contratacion No Tiene denominacio...     9683.89   \n",
            "4                                    Jefe de Oficina     8422.34   \n",
            "\n",
            "                                               Cargo  \\\n",
            "0                         Auxiliar de Enfermeria \"A\"   \n",
            "1                                    Policia Primero   \n",
            "2                                    Policia Segundo   \n",
            "3  Este Tipo de Contratacion No Tiene denominacio...   \n",
            "4                                    Jefe de Oficina   \n",
            "\n",
            "                                         Area  Monto_Bruto        ID  \\\n",
            "0                        H.G. Enrique Cabrera     16092.00  16480190   \n",
            "1         Subsecretaria de Operacion Policial     16030.00  17599078   \n",
            "2                                  Sector   B     14861.81  18863345   \n",
            "3                 Direccion de Administracion     11146.00  17548988   \n",
            "4  Jud de Registro de Movimientos de Personal     10045.67  19091192   \n",
            "\n",
            "  Periodo_Reporta_Inicio Periodo_Reporta_Fin  \n",
            "0             01/01/2018          31/03/2018  \n",
            "1             01/01/2020          31/03/2020  \n",
            "2             01/07/2018          30/09/2018  \n",
            "3             01/10/2018          31/12/2018  \n",
            "4             01/01/2019          31/03/2019  \n"
          ]
        }
      ]
    },
    {
      "cell_type": "code",
      "source": [
        "# changed the order of the columns. (Printed summary table automatically after execution??) \n",
        "df = df.reindex(columns=['ID', 'Nombre', 'Cargo', 'Area', 'Denominacion', 'Sujeto_Obligado', 'Entidad_Federativa', 'Monto_Bruto', 'Monto_Neto', 'Periodo_Reporta_Inicio', 'Periodo_Reporta_Fin'])"
      ],
      "metadata": {
        "id": "_qnPYEudv0J5"
      },
      "execution_count": null,
      "outputs": []
    },
    {
      "cell_type": "code",
      "source": [
        "print(df.head(3))"
      ],
      "metadata": {
        "colab": {
          "base_uri": "https://localhost:8080/"
        },
        "id": "k_-VSJyQ5Sy1",
        "outputId": "56dcc2f0-7270-41d2-dda4-330e80ede518"
      },
      "execution_count": null,
      "outputs": [
        {
          "output_type": "stream",
          "name": "stdout",
          "text": [
            "         ID                          Nombre                       Cargo  \\\n",
            "0  16480190   Arely Samanta Cleofas Velasco  Auxiliar de Enfermeria \"A\"   \n",
            "1  17599078  Melody Olimpic Gonzalez Montes             Policia Primero   \n",
            "2  18863345             Eudelio Dorio Perez             Policia Segundo   \n",
            "\n",
            "                                  Area                Denominacion  \\\n",
            "0                 H.G. Enrique Cabrera  Auxiliar de Enfermeria \"A\"   \n",
            "1  Subsecretaria de Operacion Policial             Policia Primero   \n",
            "2                           Sector   B             Policia Segundo   \n",
            "\n",
            "                     Sujeto_Obligado Entidad_Federativa  Monto_Bruto  \\\n",
            "0                Secretaría de Salud   Ciudad de México     16092.00   \n",
            "1  Secretaría de Seguridad Ciudadana   Ciudad de México     16030.00   \n",
            "2      Policía Bancaria E Industrial   Ciudad de México     14861.81   \n",
            "\n",
            "   Monto_Neto Periodo_Reporta_Inicio Periodo_Reporta_Fin  \n",
            "0    12177.86             01/01/2018          31/03/2018  \n",
            "1    11652.00             01/01/2020          31/03/2020  \n",
            "2    12050.80             01/07/2018          30/09/2018  \n"
          ]
        }
      ]
    },
    {
      "cell_type": "code",
      "source": [
        "# Using a function to find employees based off ID\n",
        "def get_row_by_id(df, id):\n",
        "    return df.loc[df['ID'] == id]\n"
      ],
      "metadata": {
        "id": "-8MfRMMi0XN9"
      },
      "execution_count": null,
      "outputs": []
    },
    {
      "cell_type": "code",
      "source": [
        "get_row_by_id(df, 18698843)\n"
      ],
      "metadata": {
        "colab": {
          "base_uri": "https://localhost:8080/",
          "height": 197
        },
        "id": "8PoKONQn3k7q",
        "outputId": "f1908943-daaf-4098-9efd-323f9aa89981"
      },
      "execution_count": null,
      "outputs": [
        {
          "output_type": "execute_result",
          "data": {
            "text/plain": [
              "              ID                       Nombre      Cargo       Area  \\\n",
              "312647  18698843  Nancy Fanny Rivera Martinez  Operativo  Sector 52   \n",
              "\n",
              "       Denominacion   Sujeto_Obligado Entidad_Federativa  Monto_Bruto  \\\n",
              "312647    Operativo  Policía Auxiliar   Ciudad de México     13766.68   \n",
              "\n",
              "        Monto_Neto Periodo_Reporta_Inicio Periodo_Reporta_Fin  \n",
              "312647    12119.57             01/04/2019          30/06/2019  "
            ],
            "text/html": [
              "\n",
              "  <div id=\"df-d50e645a-59a9-482f-85a0-e9f1ada63f7c\">\n",
              "    <div class=\"colab-df-container\">\n",
              "      <div>\n",
              "<style scoped>\n",
              "    .dataframe tbody tr th:only-of-type {\n",
              "        vertical-align: middle;\n",
              "    }\n",
              "\n",
              "    .dataframe tbody tr th {\n",
              "        vertical-align: top;\n",
              "    }\n",
              "\n",
              "    .dataframe thead th {\n",
              "        text-align: right;\n",
              "    }\n",
              "</style>\n",
              "<table border=\"1\" class=\"dataframe\">\n",
              "  <thead>\n",
              "    <tr style=\"text-align: right;\">\n",
              "      <th></th>\n",
              "      <th>ID</th>\n",
              "      <th>Nombre</th>\n",
              "      <th>Cargo</th>\n",
              "      <th>Area</th>\n",
              "      <th>Denominacion</th>\n",
              "      <th>Sujeto_Obligado</th>\n",
              "      <th>Entidad_Federativa</th>\n",
              "      <th>Monto_Bruto</th>\n",
              "      <th>Monto_Neto</th>\n",
              "      <th>Periodo_Reporta_Inicio</th>\n",
              "      <th>Periodo_Reporta_Fin</th>\n",
              "    </tr>\n",
              "  </thead>\n",
              "  <tbody>\n",
              "    <tr>\n",
              "      <th>312647</th>\n",
              "      <td>18698843</td>\n",
              "      <td>Nancy Fanny Rivera Martinez</td>\n",
              "      <td>Operativo</td>\n",
              "      <td>Sector 52</td>\n",
              "      <td>Operativo</td>\n",
              "      <td>Policía Auxiliar</td>\n",
              "      <td>Ciudad de México</td>\n",
              "      <td>13766.68</td>\n",
              "      <td>12119.57</td>\n",
              "      <td>01/04/2019</td>\n",
              "      <td>30/06/2019</td>\n",
              "    </tr>\n",
              "  </tbody>\n",
              "</table>\n",
              "</div>\n",
              "      <button class=\"colab-df-convert\" onclick=\"convertToInteractive('df-d50e645a-59a9-482f-85a0-e9f1ada63f7c')\"\n",
              "              title=\"Convert this dataframe to an interactive table.\"\n",
              "              style=\"display:none;\">\n",
              "        \n",
              "  <svg xmlns=\"http://www.w3.org/2000/svg\" height=\"24px\"viewBox=\"0 0 24 24\"\n",
              "       width=\"24px\">\n",
              "    <path d=\"M0 0h24v24H0V0z\" fill=\"none\"/>\n",
              "    <path d=\"M18.56 5.44l.94 2.06.94-2.06 2.06-.94-2.06-.94-.94-2.06-.94 2.06-2.06.94zm-11 1L8.5 8.5l.94-2.06 2.06-.94-2.06-.94L8.5 2.5l-.94 2.06-2.06.94zm10 10l.94 2.06.94-2.06 2.06-.94-2.06-.94-.94-2.06-.94 2.06-2.06.94z\"/><path d=\"M17.41 7.96l-1.37-1.37c-.4-.4-.92-.59-1.43-.59-.52 0-1.04.2-1.43.59L10.3 9.45l-7.72 7.72c-.78.78-.78 2.05 0 2.83L4 21.41c.39.39.9.59 1.41.59.51 0 1.02-.2 1.41-.59l7.78-7.78 2.81-2.81c.8-.78.8-2.07 0-2.86zM5.41 20L4 18.59l7.72-7.72 1.47 1.35L5.41 20z\"/>\n",
              "  </svg>\n",
              "      </button>\n",
              "      \n",
              "  <style>\n",
              "    .colab-df-container {\n",
              "      display:flex;\n",
              "      flex-wrap:wrap;\n",
              "      gap: 12px;\n",
              "    }\n",
              "\n",
              "    .colab-df-convert {\n",
              "      background-color: #E8F0FE;\n",
              "      border: none;\n",
              "      border-radius: 50%;\n",
              "      cursor: pointer;\n",
              "      display: none;\n",
              "      fill: #1967D2;\n",
              "      height: 32px;\n",
              "      padding: 0 0 0 0;\n",
              "      width: 32px;\n",
              "    }\n",
              "\n",
              "    .colab-df-convert:hover {\n",
              "      background-color: #E2EBFA;\n",
              "      box-shadow: 0px 1px 2px rgba(60, 64, 67, 0.3), 0px 1px 3px 1px rgba(60, 64, 67, 0.15);\n",
              "      fill: #174EA6;\n",
              "    }\n",
              "\n",
              "    [theme=dark] .colab-df-convert {\n",
              "      background-color: #3B4455;\n",
              "      fill: #D2E3FC;\n",
              "    }\n",
              "\n",
              "    [theme=dark] .colab-df-convert:hover {\n",
              "      background-color: #434B5C;\n",
              "      box-shadow: 0px 1px 3px 1px rgba(0, 0, 0, 0.15);\n",
              "      filter: drop-shadow(0px 1px 2px rgba(0, 0, 0, 0.3));\n",
              "      fill: #FFFFFF;\n",
              "    }\n",
              "  </style>\n",
              "\n",
              "      <script>\n",
              "        const buttonEl =\n",
              "          document.querySelector('#df-d50e645a-59a9-482f-85a0-e9f1ada63f7c button.colab-df-convert');\n",
              "        buttonEl.style.display =\n",
              "          google.colab.kernel.accessAllowed ? 'block' : 'none';\n",
              "\n",
              "        async function convertToInteractive(key) {\n",
              "          const element = document.querySelector('#df-d50e645a-59a9-482f-85a0-e9f1ada63f7c');\n",
              "          const dataTable =\n",
              "            await google.colab.kernel.invokeFunction('convertToInteractive',\n",
              "                                                     [key], {});\n",
              "          if (!dataTable) return;\n",
              "\n",
              "          const docLinkHtml = 'Like what you see? Visit the ' +\n",
              "            '<a target=\"_blank\" href=https://colab.research.google.com/notebooks/data_table.ipynb>data table notebook</a>'\n",
              "            + ' to learn more about interactive tables.';\n",
              "          element.innerHTML = '';\n",
              "          dataTable['output_type'] = 'display_data';\n",
              "          await google.colab.output.renderOutput(dataTable, element);\n",
              "          const docLink = document.createElement('div');\n",
              "          docLink.innerHTML = docLinkHtml;\n",
              "          element.appendChild(docLink);\n",
              "        }\n",
              "      </script>\n",
              "    </div>\n",
              "  </div>\n",
              "  "
            ]
          },
          "metadata": {},
          "execution_count": 42
        }
      ]
    },
    {
      "cell_type": "code",
      "source": [
        "get_row_by_id(df, 19091192)"
      ],
      "metadata": {
        "colab": {
          "base_uri": "https://localhost:8080/",
          "height": 197
        },
        "id": "HKYpS4T26IR7",
        "outputId": "36cc76e9-f41f-44b3-90ea-f2a36b47372c"
      },
      "execution_count": null,
      "outputs": [
        {
          "output_type": "execute_result",
          "data": {
            "text/plain": [
              "         ID                   Nombre            Cargo  \\\n",
              "4  19091192  Antonio Aguilar Ramirez  Jefe de Oficina   \n",
              "\n",
              "                                         Area     Denominacion  \\\n",
              "4  Jud de Registro de Movimientos de Personal  Jefe de Oficina   \n",
              "\n",
              "           Sujeto_Obligado Entidad_Federativa  Monto_Bruto  Monto_Neto  \\\n",
              "4  Alcaldía Álvaro Obregón   Ciudad de México     10045.67     8422.34   \n",
              "\n",
              "  Periodo_Reporta_Inicio Periodo_Reporta_Fin  \n",
              "4             01/01/2019          31/03/2019  "
            ],
            "text/html": [
              "\n",
              "  <div id=\"df-6e5bcd19-9c83-4cfb-ae5f-3e38b4a14cae\">\n",
              "    <div class=\"colab-df-container\">\n",
              "      <div>\n",
              "<style scoped>\n",
              "    .dataframe tbody tr th:only-of-type {\n",
              "        vertical-align: middle;\n",
              "    }\n",
              "\n",
              "    .dataframe tbody tr th {\n",
              "        vertical-align: top;\n",
              "    }\n",
              "\n",
              "    .dataframe thead th {\n",
              "        text-align: right;\n",
              "    }\n",
              "</style>\n",
              "<table border=\"1\" class=\"dataframe\">\n",
              "  <thead>\n",
              "    <tr style=\"text-align: right;\">\n",
              "      <th></th>\n",
              "      <th>ID</th>\n",
              "      <th>Nombre</th>\n",
              "      <th>Cargo</th>\n",
              "      <th>Area</th>\n",
              "      <th>Denominacion</th>\n",
              "      <th>Sujeto_Obligado</th>\n",
              "      <th>Entidad_Federativa</th>\n",
              "      <th>Monto_Bruto</th>\n",
              "      <th>Monto_Neto</th>\n",
              "      <th>Periodo_Reporta_Inicio</th>\n",
              "      <th>Periodo_Reporta_Fin</th>\n",
              "    </tr>\n",
              "  </thead>\n",
              "  <tbody>\n",
              "    <tr>\n",
              "      <th>4</th>\n",
              "      <td>19091192</td>\n",
              "      <td>Antonio Aguilar Ramirez</td>\n",
              "      <td>Jefe de Oficina</td>\n",
              "      <td>Jud de Registro de Movimientos de Personal</td>\n",
              "      <td>Jefe de Oficina</td>\n",
              "      <td>Alcaldía Álvaro Obregón</td>\n",
              "      <td>Ciudad de México</td>\n",
              "      <td>10045.67</td>\n",
              "      <td>8422.34</td>\n",
              "      <td>01/01/2019</td>\n",
              "      <td>31/03/2019</td>\n",
              "    </tr>\n",
              "  </tbody>\n",
              "</table>\n",
              "</div>\n",
              "      <button class=\"colab-df-convert\" onclick=\"convertToInteractive('df-6e5bcd19-9c83-4cfb-ae5f-3e38b4a14cae')\"\n",
              "              title=\"Convert this dataframe to an interactive table.\"\n",
              "              style=\"display:none;\">\n",
              "        \n",
              "  <svg xmlns=\"http://www.w3.org/2000/svg\" height=\"24px\"viewBox=\"0 0 24 24\"\n",
              "       width=\"24px\">\n",
              "    <path d=\"M0 0h24v24H0V0z\" fill=\"none\"/>\n",
              "    <path d=\"M18.56 5.44l.94 2.06.94-2.06 2.06-.94-2.06-.94-.94-2.06-.94 2.06-2.06.94zm-11 1L8.5 8.5l.94-2.06 2.06-.94-2.06-.94L8.5 2.5l-.94 2.06-2.06.94zm10 10l.94 2.06.94-2.06 2.06-.94-2.06-.94-.94-2.06-.94 2.06-2.06.94z\"/><path d=\"M17.41 7.96l-1.37-1.37c-.4-.4-.92-.59-1.43-.59-.52 0-1.04.2-1.43.59L10.3 9.45l-7.72 7.72c-.78.78-.78 2.05 0 2.83L4 21.41c.39.39.9.59 1.41.59.51 0 1.02-.2 1.41-.59l7.78-7.78 2.81-2.81c.8-.78.8-2.07 0-2.86zM5.41 20L4 18.59l7.72-7.72 1.47 1.35L5.41 20z\"/>\n",
              "  </svg>\n",
              "      </button>\n",
              "      \n",
              "  <style>\n",
              "    .colab-df-container {\n",
              "      display:flex;\n",
              "      flex-wrap:wrap;\n",
              "      gap: 12px;\n",
              "    }\n",
              "\n",
              "    .colab-df-convert {\n",
              "      background-color: #E8F0FE;\n",
              "      border: none;\n",
              "      border-radius: 50%;\n",
              "      cursor: pointer;\n",
              "      display: none;\n",
              "      fill: #1967D2;\n",
              "      height: 32px;\n",
              "      padding: 0 0 0 0;\n",
              "      width: 32px;\n",
              "    }\n",
              "\n",
              "    .colab-df-convert:hover {\n",
              "      background-color: #E2EBFA;\n",
              "      box-shadow: 0px 1px 2px rgba(60, 64, 67, 0.3), 0px 1px 3px 1px rgba(60, 64, 67, 0.15);\n",
              "      fill: #174EA6;\n",
              "    }\n",
              "\n",
              "    [theme=dark] .colab-df-convert {\n",
              "      background-color: #3B4455;\n",
              "      fill: #D2E3FC;\n",
              "    }\n",
              "\n",
              "    [theme=dark] .colab-df-convert:hover {\n",
              "      background-color: #434B5C;\n",
              "      box-shadow: 0px 1px 3px 1px rgba(0, 0, 0, 0.15);\n",
              "      filter: drop-shadow(0px 1px 2px rgba(0, 0, 0, 0.3));\n",
              "      fill: #FFFFFF;\n",
              "    }\n",
              "  </style>\n",
              "\n",
              "      <script>\n",
              "        const buttonEl =\n",
              "          document.querySelector('#df-6e5bcd19-9c83-4cfb-ae5f-3e38b4a14cae button.colab-df-convert');\n",
              "        buttonEl.style.display =\n",
              "          google.colab.kernel.accessAllowed ? 'block' : 'none';\n",
              "\n",
              "        async function convertToInteractive(key) {\n",
              "          const element = document.querySelector('#df-6e5bcd19-9c83-4cfb-ae5f-3e38b4a14cae');\n",
              "          const dataTable =\n",
              "            await google.colab.kernel.invokeFunction('convertToInteractive',\n",
              "                                                     [key], {});\n",
              "          if (!dataTable) return;\n",
              "\n",
              "          const docLinkHtml = 'Like what you see? Visit the ' +\n",
              "            '<a target=\"_blank\" href=https://colab.research.google.com/notebooks/data_table.ipynb>data table notebook</a>'\n",
              "            + ' to learn more about interactive tables.';\n",
              "          element.innerHTML = '';\n",
              "          dataTable['output_type'] = 'display_data';\n",
              "          await google.colab.output.renderOutput(dataTable, element);\n",
              "          const docLink = document.createElement('div');\n",
              "          docLink.innerHTML = docLinkHtml;\n",
              "          element.appendChild(docLink);\n",
              "        }\n",
              "      </script>\n",
              "    </div>\n",
              "  </div>\n",
              "  "
            ]
          },
          "metadata": {},
          "execution_count": 43
        }
      ]
    },
    {
      "cell_type": "code",
      "source": [
        "def employee_info(df, ID):\n",
        "    row = df.loc[df['ID'] == ID]\n",
        "    message = \"{Nombre} was a {Cargo} that worked in {Entidad_Federativa} between {Periodo_Reporta_Inicio} and {Periodo_Reporta_Fin}. This employee paid ${Tax}MX in tax every month.\".format(\n",
        "        Nombre = row['Nombre'].values[0],\n",
        "        Cargo = row['Cargo'].values[0],\n",
        "        Entidad_Federativa = row['Entidad_Federativa'].values[0],\n",
        "        Periodo_Reporta_Inicio = row['Periodo_Reporta_Inicio'].values[0],\n",
        "        Periodo_Reporta_Fin = row['Periodo_Reporta_Fin'].values[0],\n",
        "        Tax = row['Monto_Bruto'].values[0] - row['Monto_Neto'].values[0]\n",
        "    )\n",
        "    return message\n",
        "\n",
        "print(employee_info(df, 19091192))"
      ],
      "metadata": {
        "colab": {
          "base_uri": "https://localhost:8080/"
        },
        "id": "0Hn5s2QBGfo1",
        "outputId": "6ef9d334-625a-447d-ab87-6fed66624dcf"
      },
      "execution_count": null,
      "outputs": [
        {
          "output_type": "stream",
          "name": "stdout",
          "text": [
            "Antonio Aguilar Ramirez was a Jefe de Oficina that worked in Ciudad de México between 01/01/2019 and 31/03/2019. This employee paid $1623.33MX in tax every month.\n"
          ]
        }
      ]
    },
    {
      "cell_type": "code",
      "source": [
        "print(employee_info(df, 19918891))"
      ],
      "metadata": {
        "colab": {
          "base_uri": "https://localhost:8080/"
        },
        "id": "ye6f1E4uKHCP",
        "outputId": "bd3d0136-7662-4af2-9534-80cfb7ee733f"
      },
      "execution_count": null,
      "outputs": [
        {
          "output_type": "stream",
          "name": "stdout",
          "text": [
            "Juan Jonathan Escalante Hernandez was a Insp. Jefe de Estacion de Transportacion that worked in Ciudad de México between 01/04/2019 and 30/06/2019. This employee paid $11777.0MX in tax every month.\n"
          ]
        }
      ]
    },
    {
      "cell_type": "code",
      "source": [
        "#data cleaned and able to be inserted into paragraphs similar to those above"
      ],
      "metadata": {
        "id": "6JyQMxEI3ZCt"
      },
      "execution_count": null,
      "outputs": []
    },
    {
      "cell_type": "code",
      "source": [
        "df.to_csv('Mex Federal Government Salaries Ciudad de México cleaned.csv', index=False)"
      ],
      "metadata": {
        "id": "9bKtgXWG4btT"
      },
      "execution_count": null,
      "outputs": []
    }
  ]
}